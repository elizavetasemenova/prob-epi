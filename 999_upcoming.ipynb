{
 "cells": [
  {
   "cell_type": "markdown",
   "metadata": {},
   "source": [
    "# Upcoming chapters\n",
    "\n",
    "Other topics which are covered in the course, but the corresponding chapters are not yet online and are to appear:\n",
    "\n",
    "[x] Surrogates\n",
    "[ ] Neural networks with Flax\n",
    "[ ] Bayesian neural networks\n",
    "[ ] So, why Numpyro?\n",
    "[ ] Variational inference\n",
    "[ ] Introduction to deep generative models\n",
    "[ ] Variational autoencoders (VAEs), normalising flows (NFs)\n",
    "[ ] Deep generative surrogates and PriorCVAE\n",
    "\n",
    "Further interesting topics which the course might not have time to cover (but I might add them to the online version in the future):\n",
    "\n",
    "- Bayesian regularisation from optimisation perspective\n",
    "- Laplace approximation\n",
    "- Bayesian optimisation\n",
    "- Active learning\n",
    "- Renewal equation\n",
    "- Hilbert Space Gaussian Process approximation (HSGP)\n"
   ]
  },
  {
   "cell_type": "markdown",
   "metadata": {},
   "source": []
  }
 ],
 "metadata": {
  "colab": {
   "provenance": []
  },
  "kernelspec": {
   "display_name": "Python 3",
   "name": "python3"
  },
  "language_info": {
   "codemirror_mode": {
    "name": "ipython",
    "version": 3
   },
   "file_extension": ".py",
   "mimetype": "text/x-python",
   "name": "python",
   "nbconvert_exporter": "python",
   "pygments_lexer": "ipython3",
   "version": "3.9.7"
  }
 },
 "nbformat": 4,
 "nbformat_minor": 0
}
