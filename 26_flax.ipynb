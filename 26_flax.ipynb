{
 "cells": [
  {
   "cell_type": "markdown",
   "metadata": {},
   "source": [
    "# Neural networks with Flax\n",
    "\n",
    "[Flax](https://flax.readthedocs.io/en/latest/) is library for building neural networks with JAX backend. It provides high-level APIs that make it easy to define, train, and deploy neural network models.\n",
    "\n",
    "In this lecture, we will:\n",
    "\n",
    "- Generate some simulated data,\n",
    "- Define a simple feed-forward neural network using Flax.\n",
    "- Train the model on the simulated data.\n",
    "- Evaluate the trained model's performance."
   ]
  },
  {
   "cell_type": "code",
   "execution_count": 1,
   "metadata": {},
   "outputs": [],
   "source": [
    "import jax\n",
    "import jax.numpy as jnp\n",
    "from flax import linen as nn\n",
    "from flax.training import train_state\n",
    "import optax\n",
    "import matplotlib.pyplot as plt"
   ]
  },
  {
   "cell_type": "code",
   "execution_count": 2,
   "metadata": {},
   "outputs": [],
   "source": [
    "# simulate data\n",
    "num_samples = 1000\n",
    "key = jax.random.PRNGKey(42)\n",
    "X = jax.random.normal(key, shape=(num_samples, 10))\n",
    "w = jnp.ones((10,))\n",
    "b = 5.0\n",
    "noise = jax.random.normal(key, shape=(num_samples,))\n",
    "y = jnp.dot(X, w) + b + noise\n",
    "\n",
    "# split into training and test sets\n",
    "train_X = X[:800]\n",
    "train_y = y[:800]\n",
    "test_X = X[800:]\n",
    "test_y = y[800:]\n"
   ]
  },
  {
   "cell_type": "markdown",
   "metadata": {},
   "source": [
    "## Defining the Model with `nn.Module`\n",
    "\n",
    "Let's define a simple Multi-Layer Perceptron (MLP) model with two hidden layers:\n",
    "\n",
    "\n"
   ]
  },
  {
   "cell_type": "code",
   "execution_count": 3,
   "metadata": {},
   "outputs": [],
   "source": [
    "class MLP(nn.Module):\n",
    "    @nn.compact\n",
    "    def __call__(self, x):\n",
    "        \n",
    "        # first hidden layer\n",
    "        x = nn.Dense(features=64)(x)\n",
    "        x = nn.relu(x)\n",
    "        \n",
    "        # second hidden layer\n",
    "        x = nn.Dense(features=32)(x)\n",
    "        x = nn.relu(x)\n",
    "        \n",
    "        # output layer\n",
    "        x = nn.Dense(features=1)(x)\n",
    "        return x"
   ]
  },
  {
   "cell_type": "markdown",
   "metadata": {},
   "source": [
    "## Create training state\n",
    "\n",
    "To manage the training process, we need to initialize our model parameters and an optimizer state. We can do this by creating a `TrainState` object from Flax."
   ]
  },
  {
   "cell_type": "code",
   "execution_count": 4,
   "metadata": {},
   "outputs": [],
   "source": [
    "def init_model(key, input_shape):\n",
    "    model = MLP()\n",
    "    variables = model.init(key, jnp.ones(input_shape))\n",
    "    tx = optax.adam(learning_rate=0.001)\n",
    "    return train_state.TrainState.create(\n",
    "        apply_fn=model.apply,\n",
    "        params=variables['params'],\n",
    "        tx=tx\n",
    "    )\n",
    "\n",
    "input_shape = (1,) + train_X.shape[1:]\n",
    "rng_key = jax.random.PRNGKey(12345)\n",
    "state = init_model(rng_key, input_shape)"
   ]
  },
  {
   "cell_type": "markdown",
   "metadata": {},
   "source": [
    "## Define loss function and update function\n",
    "\n",
    "Now, we define the loss function and update function for training the model."
   ]
  },
  {
   "cell_type": "code",
   "execution_count": 5,
   "metadata": {},
   "outputs": [],
   "source": [
    "def compute_loss(params, batch):\n",
    "    inputs, targets = batch\n",
    "    preds = state.apply_fn({'params': params}, inputs)\n",
    "    loss = jnp.mean((preds - targets)**2)\n",
    "    return loss\n",
    "\n",
    "@jax.jit\n",
    "def train_step(state, batch):\n",
    "    grads = jax.grad(compute_loss)(state.params, batch)\n",
    "    return state.apply_gradients(grads=grads)"
   ]
  },
  {
   "cell_type": "markdown",
   "metadata": {},
   "source": [
    "## Training loop\n",
    "\n",
    "Finally, we write the main training loop where we iterate over batches of data and update the model’s parameters."
   ]
  },
  {
   "cell_type": "code",
   "execution_count": 6,
   "metadata": {},
   "outputs": [
    {
     "name": "stdout",
     "output_type": "stream",
     "text": [
      "Epoch 0: Training Loss = 19.4848 | Test Loss = 22.6702\n",
      "Epoch 10: Training Loss = 12.5443 | Test Loss = 13.6274\n",
      "Epoch 20: Training Loss = 12.3206 | Test Loss = 13.2128\n",
      "Epoch 30: Training Loss = 12.1208 | Test Loss = 13.1249\n",
      "Epoch 40: Training Loss = 12.0003 | Test Loss = 13.0109\n",
      "Epoch 50: Training Loss = 11.9139 | Test Loss = 12.8543\n",
      "Epoch 60: Training Loss = 11.8530 | Test Loss = 12.7370\n",
      "Epoch 70: Training Loss = 11.8231 | Test Loss = 12.6643\n",
      "Epoch 80: Training Loss = 11.7928 | Test Loss = 12.5550\n",
      "Epoch 90: Training Loss = 11.8982 | Test Loss = 12.4881\n"
     ]
    },
    {
     "data": {
      "image/png": "[encoded data removed]",
      "text/plain": [
       "<Figure size 400x300 with 1 Axes>"
      ]
     },
     "metadata": {},
     "output_type": "display_data"
    }
   ],
   "source": [
    "batch_size = 32\n",
    "num_epochs = 100\n",
    "\n",
    "training_losses = []\n",
    "test_losses = []\n",
    "\n",
    "for epoch in range(num_epochs):\n",
    "    perm = jax.random.permutation(jax.random.PRNGKey(epoch), len(train_X))\n",
    "    train_X_perm = train_X[perm]\n",
    "    train_y_perm = train_y[perm]\n",
    "    \n",
    "    for i in range(0, len(train_X), batch_size):\n",
    "        batch_X = train_X_perm[i:i+batch_size]\n",
    "        batch_y = train_y_perm[i:i+batch_size]\n",
    "        state = train_step(state, (batch_X, batch_y))\n",
    "    \n",
    "    # Compute training loss\n",
    "    train_loss = compute_loss(state.params, (train_X, train_y))\n",
    "    training_losses.append(train_loss)\n",
    "    \n",
    "    # Compute test loss\n",
    "    test_loss = compute_loss(state.params, (test_X, test_y))\n",
    "    test_losses.append(test_loss)\n",
    "    \n",
    "    if epoch % 10 == 0:\n",
    "        print(f\"Epoch {epoch}: Training Loss = {train_loss:.4f} | Test Loss = {test_loss:.4f}\")\n",
    "\n",
    "# plotting the training and test losses\n",
    "plt.figure(figsize=(4, 3))\n",
    "plt.plot(training_losses, label='Training Loss')\n",
    "plt.plot(test_losses, label='Test Loss')\n",
    "plt.xlabel('Epochs')\n",
    "plt.ylabel('Loss')\n",
    "plt.title('Training and Test Losses Over Epochs')\n",
    "plt.legend()\n",
    "plt.grid(True)\n",
    "plt.show()"
   ]
  }
 ],
 "metadata": {
  "colab": {
   "provenance": []
  },
  "kernelspec": {
   "display_name": "aims_flax",
   "language": "python",
   "name": "python3"
  },
  "language_info": {
   "codemirror_mode": {
    "name": "ipython",
    "version": 3
   },
   "file_extension": ".py",
   "mimetype": "text/x-python",
   "name": "python",
   "nbconvert_exporter": "python",
   "pygments_lexer": "ipython3",
   "version": "3.9.18"
  }
 },
 "nbformat": 4,
 "nbformat_minor": 0
}
