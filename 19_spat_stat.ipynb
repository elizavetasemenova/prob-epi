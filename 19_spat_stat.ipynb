{
 "cells": [
  {
   "cell_type": "markdown",
   "metadata": {},
   "source": [
    "# Spatial statistics\n",
    "\n",
    "<font color='orange'>Spatial statistics</font>  is a branch of statistics that deals with the analysis and interpretation of data that has spatial or geographical components, considering how neighboring locations influence each other. It involves techniques for exploring, modelling, and understanding the patterns and relationships within spatial data. The state-of-the-art approach to spatial data analysis are hierarchical Bayesian models {cite}`banerjee2003hierarchical`.\n",
    "\n",
    "Since Gaussian processes are able to cpature correlation at different locations depending on the distance between those locations, it makes them a foudational tool used in spatial modelling. In GLMMs, the term presented by latent GPs, or their close relatives - multivariate Normal distribution - play the role of the <font color='orange'>spatial random effect</font>. "
   ]
  },
  {
   "cell_type": "markdown",
   "metadata": {},
   "source": [
    "## Three types of spatial data\n",
    "\n",
    "There is three types of spatial data - areal, geostatistical, and point pattern. \n",
    "\n",
    "Selection of the spatial statistical method is determined by the type of the available information about the data. There are three types of spatial data and corresponding models: point-level (or <font color='orange'>geostatistical</font> data, <font color='orange'>areal</font> (or lattice) data and spatial <font color='orange'>point patterns</font>. \n",
    "\n",
    "<span style=\"color:orange\">Geostatistical data</span> is a collection of  <font color='orange'>random observations</font> at <font color='orange'>fixed locations</font>. Spatial proximity is defined via a function of distance between pairs of locations.The goal of geostatistical modelling is to identify the effect of covariates that determine disease risk and to predict the outcome at unsampled locations within the study area (referred to as <font color='orange'>kriging</font>). The spatial random effect in this context is modelled via kernel-based GPs. See [this](geostats) chapter for more details.\n",
    "\n",
    "<font color='orange'>Areal data</font> are individual-level or aggregated data typically consisting of counts or rates with geographical information available over a set of regions with common borders. These areas may correspond to administrative units such as states, districts or counties or a regular grid - lattice. Spatial correlation between areas is implemented based on the neighbouring structure. Analysis of areal data aims to identify trends and spatial patterns and to assess large-scale associations between the disease risk and its predictors. The spatial random effect is captured in areal data models by multivariate Normal distributions. See [this](areal) chapter for more details.\n",
    "\n",
    "<span style=\"color:orange\">Point pattern</span> data consists of random locations of events. Dependence between case locations is modelled via a Gaussian process. This type of models are particularly appealing for datasets with precisely known locations of events due to their ability to capture disease clusters and identify factors associated with them. Events of a point pattern, tagged with an additional discrete coordinate, constitute <font color='orange'>marked point pattern</font> data. One model for analysing point pattern data is log-Gaussian Cox process (LGCP). See a chapter on LGCPs [here](lgcp)."
   ]
  }
 ],
 "metadata": {
  "colab": {
   "provenance": []
  },
  "kernelspec": {
   "display_name": "Python 3",
   "name": "python3"
  },
  "language_info": {
   "codemirror_mode": {
    "name": "ipython",
    "version": 3
   },
   "file_extension": ".py",
   "mimetype": "text/x-python",
   "name": "python",
   "nbconvert_exporter": "python",
   "pygments_lexer": "ipython3",
   "version": "3.9.18"
  }
 },
 "nbformat": 4,
 "nbformat_minor": 0
}
